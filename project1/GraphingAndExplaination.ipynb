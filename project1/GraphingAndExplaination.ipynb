{
 "cells": [
  {
   "cell_type": "markdown",
   "metadata": {},
   "source": [
    "We begin by importing our libraries"
   ]
  },
  {
   "cell_type": "code",
   "execution_count": 70,
   "metadata": {},
   "outputs": [],
   "source": [
    "library(plotly)\n",
    "library(tidyverse)"
   ]
  },
  {
   "cell_type": "markdown",
   "metadata": {},
   "source": [
    "Now we pull in the CSV for F and manipulate them a bit to add the x column and the dimensionless velocity column"
   ]
  },
  {
   "cell_type": "code",
   "execution_count": 71,
   "metadata": {},
   "outputs": [],
   "source": [
    "f5 <- read.csv('FvaluesPR5.csv', header = FALSE)"
   ]
  },
  {
   "cell_type": "code",
   "execution_count": 72,
   "metadata": {},
   "outputs": [],
   "source": [
    "f5 = t(f5)"
   ]
  },
  {
   "cell_type": "code",
   "execution_count": 73,
   "metadata": {},
   "outputs": [],
   "source": [
    "x = seq(0,10,0.1)"
   ]
  },
  {
   "cell_type": "code",
   "execution_count": 74,
   "metadata": {
    "scrolled": true
   },
   "outputs": [],
   "source": [
    "f5 = cbind(f5,x)"
   ]
  },
  {
   "cell_type": "code",
   "execution_count": 75,
   "metadata": {},
   "outputs": [],
   "source": [
    "dmVel = 1/2*(f5[,4]*f5[,2] - f5[,1])"
   ]
  },
  {
   "cell_type": "code",
   "execution_count": 76,
   "metadata": {},
   "outputs": [
    {
     "data": {
      "text/html": [
       "<table>\n",
       "<thead><tr><th></th><th scope=col></th><th scope=col></th><th scope=col></th><th scope=col>x</th><th scope=col>dmVel</th></tr></thead>\n",
       "<tbody>\n",
       "\t<tr><th scope=row>V1</th><td>0.0000000 </td><td>0.000000  </td><td>0.33206   </td><td>0.0       </td><td>0.00000000</td></tr>\n",
       "\t<tr><th scope=row>V2</th><td>0.0016603 </td><td>0.033206  </td><td>0.33205   </td><td>0.1       </td><td>0.00083015</td></tr>\n",
       "\t<tr><th scope=row>V3</th><td>0.0066410 </td><td>0.066409  </td><td>0.33200   </td><td>0.2       </td><td>0.00332040</td></tr>\n",
       "\t<tr><th scope=row>V4</th><td>0.0149420 </td><td>0.099603  </td><td>0.33185   </td><td>0.3       </td><td>0.00746945</td></tr>\n",
       "\t<tr><th scope=row>V5</th><td>0.0265610 </td><td>0.132770  </td><td>0.33154   </td><td>0.4       </td><td>0.01327350</td></tr>\n",
       "\t<tr><th scope=row>V6</th><td>0.0414950 </td><td>0.165900  </td><td>0.33103   </td><td>0.5       </td><td>0.02072750</td></tr>\n",
       "</tbody>\n",
       "</table>\n"
      ],
      "text/latex": [
       "\\begin{tabular}{r|lllll}\n",
       "  &  &  &  & x & dmVel\\\\\n",
       "\\hline\n",
       "\tV1 & 0.0000000  & 0.000000   & 0.33206    & 0.0        & 0.00000000\\\\\n",
       "\tV2 & 0.0016603  & 0.033206   & 0.33205    & 0.1        & 0.00083015\\\\\n",
       "\tV3 & 0.0066410  & 0.066409   & 0.33200    & 0.2        & 0.00332040\\\\\n",
       "\tV4 & 0.0149420  & 0.099603   & 0.33185    & 0.3        & 0.00746945\\\\\n",
       "\tV5 & 0.0265610  & 0.132770   & 0.33154    & 0.4        & 0.01327350\\\\\n",
       "\tV6 & 0.0414950  & 0.165900   & 0.33103    & 0.5        & 0.02072750\\\\\n",
       "\\end{tabular}\n"
      ],
      "text/markdown": [
       "\n",
       "| <!--/--> |  |  |  | x | dmVel |\n",
       "|---|---|---|---|---|---|\n",
       "| V1 | 0.0000000  | 0.000000   | 0.33206    | 0.0        | 0.00000000 |\n",
       "| V2 | 0.0016603  | 0.033206   | 0.33205    | 0.1        | 0.00083015 |\n",
       "| V3 | 0.0066410  | 0.066409   | 0.33200    | 0.2        | 0.00332040 |\n",
       "| V4 | 0.0149420  | 0.099603   | 0.33185    | 0.3        | 0.00746945 |\n",
       "| V5 | 0.0265610  | 0.132770   | 0.33154    | 0.4        | 0.01327350 |\n",
       "| V6 | 0.0414950  | 0.165900   | 0.33103    | 0.5        | 0.02072750 |\n",
       "\n"
      ],
      "text/plain": [
       "                              x   dmVel     \n",
       "V1 0.0000000 0.000000 0.33206 0.0 0.00000000\n",
       "V2 0.0016603 0.033206 0.33205 0.1 0.00083015\n",
       "V3 0.0066410 0.066409 0.33200 0.2 0.00332040\n",
       "V4 0.0149420 0.099603 0.33185 0.3 0.00746945\n",
       "V5 0.0265610 0.132770 0.33154 0.4 0.01327350\n",
       "V6 0.0414950 0.165900 0.33103 0.5 0.02072750"
      ]
     },
     "metadata": {},
     "output_type": "display_data"
    }
   ],
   "source": [
    "f5 = cbind(f5,dmVel)\n",
    "head(f5)"
   ]
  },
  {
   "cell_type": "code",
   "execution_count": 77,
   "metadata": {},
   "outputs": [],
   "source": [
    "colnames(f5) <- c('F', \"FP\", \"FDP\", 'x', 'dmVel')\n",
    "f5 <- as.data.frame(f5)"
   ]
  },
  {
   "cell_type": "code",
   "execution_count": 78,
   "metadata": {},
   "outputs": [],
   "source": [
    "p1 <- ggplot(data = f5, aes(x = x)) + geom_point(aes(y = FP), color = 'red') + geom_path(aes(y = FP), color = 'red') + \n",
    "    geom_point(aes(y = dmVel), color = 'blue') + geom_path(aes(y = dmVel), color = 'blue') + \n",
    "    ggtitle(\"Figure 1\")"
   ]
  },
  {
   "cell_type": "code",
   "execution_count": 79,
   "metadata": {},
   "outputs": [
    {
     "data": {
      "image/png": "[encoded data removed]",
      "text/plain": [
       "plot without title"
      ]
     },
     "metadata": {},
     "output_type": "display_data"
    }
   ],
   "source": [
    "p1"
   ]
  },
  {
   "cell_type": "markdown",
   "metadata": {},
   "source": [
    "So I'm pretty sure the answer is 5 here but I'm not positive"
   ]
  },
  {
   "cell_type": "code",
   "execution_count": null,
   "metadata": {},
   "outputs": [],
   "source": []
  }
 ],
 "metadata": {
  "kernelspec": {
   "display_name": "R",
   "language": "R",
   "name": "ir"
  },
  "language_info": {
   "codemirror_mode": "r",
   "file_extension": ".r",
   "mimetype": "text/x-r-source",
   "name": "R",
   "pygments_lexer": "r",
   "version": "3.6.1"
  }
 },
 "nbformat": 4,
 "nbformat_minor": 2
}
